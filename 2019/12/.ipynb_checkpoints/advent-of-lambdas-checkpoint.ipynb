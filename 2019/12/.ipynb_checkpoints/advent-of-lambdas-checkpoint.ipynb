{
 "cells": [
  {
   "cell_type": "markdown",
   "metadata": {},
   "source": [
    "# The 12 Days of Lambdas\n",
    "\n",
    "I first learned about Lambda calculus a 15 years and I'm still amazed by it for so many reasons.\n",
    "\n",
    "First, Lambda calculus was introduced in the 1930's by Alonzo Church back when mathematicians were looking for an axiomatic foundation and algorithm where they could feed in an arbitrary statement written in some type of formal language to see if the statement was true or false.  While mathematicians were able to construct formal languages to encode these questions, they learned there are simply some questions that simply won't ever return a simple true or false.\n",
    "\n",
    "Nevertheless, I'm still absolutely enamoured by Church's lambda calculus because he was able to create an incredibily powerful minimalist language that makes almost every modern programming language look incredibly complicated by comparison because it really only lets you do three things:\n",
    "\n",
    "1. You can define functions.\n",
    "2. You can your functions.\n",
    "3. But you can only call them with other functions.  (Seriously?  WTF?)\n",
    "\n",
    "In fact, let me show you one way we can define the AST for lambdas."
   ]
  },
  {
   "cell_type": "code",
   "execution_count": 3,
   "metadata": {},
   "outputs": [],
   "source": [
    "type LambdaTerm = \n",
    "    | Var of varName:string                                   // A reference to a variable\n",
    "    | Lambda of parameterName:string * body:LambdaTerm        // A function definition\n",
    "    | FuncApplication of fn:LambdaTerm * argument:LambdaTerm  // A call to a function"
   ]
  },
  {
   "cell_type": "markdown",
   "metadata": {},
   "source": [
    "That's it!  That's all we need to define our lambda calculus AST.  We have no notion of boolean values, if statements, for loops, data types or anything else we take for granted in our modern languages."
   ]
  },
  {
   "cell_type": "markdown",
   "metadata": {},
   "source": [
    "# How do we anything useful with this minimalistic language?\n",
    "\n",
    "The trick to doing something useful with this language is knowing how to encode the things we take for granted, like boolean values, if statements, tuples, numbers and loops into this minimalistic language.\n",
    "\n",
    "So let me show you!\n",
    "\n",
    "Let's start with the basics.  To do any basic logic, we need to know how to encode things like true, false and logical operations as pure lambda functions.\n",
    "\n",
    "First, let me show you how I might define these with as pure F# functions."
   ]
  },
  {
   "cell_type": "code",
   "execution_count": 9,
   "metadata": {},
   "outputs": [],
   "source": [
    "let TRUE = fun x y -> x\n",
    "let FALSE = fun x y -> y\n",
    "let IF = fun x -> x\n",
    "let AND = fun x y -> IF x y FALSE"
   ]
  },
  {
   "cell_type": "markdown",
   "metadata": {},
   "source": [
    "## But how do you make this minimalistic language do anything useful?\n",
    "\n",
    "Just so we're clear, this language has none of the modern conviences "
   ]
  }
 ],
 "metadata": {
  "kernelspec": {
   "display_name": ".NET (F#)",
   "language": "F#",
   "name": ".net-fsharp"
  },
  "language_info": {
   "file_extension": ".fs",
   "mimetype": "text/x-fsharp",
   "name": "C#",
   "pygments_lexer": "fsharp",
   "version": "4.5"
  }
 },
 "nbformat": 4,
 "nbformat_minor": 2
}
