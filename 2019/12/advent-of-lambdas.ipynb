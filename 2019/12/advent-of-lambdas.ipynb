{
 "cells": [
  {
   "cell_type": "markdown",
   "metadata": {},
   "source": [
    "# The 12 Days of Lambdas\n",
    "\n",
    "I first learned about Lambda calculus a 15 years and I'm still amazed by it for so many reasons.\n",
    "\n",
    "First, Lambda calculus was introduced in the 1930's by Alonzo Church back when mathematicians were looking for an axiomatic foundation and algorithm where they could feed in an arbitrary statement written in some type of formal language to see if the statement was true or false.  While mathematicians were able to construct formal languages to encode these questions, they learned there are simply some questions that simply won't ever return a simple true or false.\n",
    "\n",
    "Nevertheless, I'm still absolutely enamoured by Church's lambda calculus because he was able to create an incredibily powerful minimalist language that makes almost every modern programming language look incredibly complicated by comparison.  Why?  Because lamba calculus really only lets you do three things:\n",
    "\n",
    "1. You can define functions.\n",
    "2. You can your functions.\n",
    "3. But you can only call them with other functions.  (Seriously?  WTF?)\n",
    "\n",
    "That's it!  Really!\n",
    "\n",
    "Nothing is built in.  You don't have if statements, boolean values, for loops, data types or anything else we take for granted in our modern languages.  Lambda calculus is powerful enough that we can define these ideas only with lambda calculus.  With pure lambda calculus alone, you can encode boolean values, loops and all sorts of things into lambda calculus itself.\n",
    "\n",
    "Let me show you.\n",
    "\n",
    "With the help of Michael Gilliand's *excellent* screencasts (https://www.youtube.com/watch?v=hC9U59a1el0&t=416s), let's walk through how he created a simple parser and runtime.\n",
    "\n",
    "## Lambda Calculus's Syntax\n",
    "\n",
    "First, lambda calculus has a simple and terse syntax.  Here are three examples of pure lambda functions.  I'm going to encode TRUE, FALSE and the AND operator in lambda calculus.  Here's what they look like: \n",
    "\n",
    "    \n",
    "    TRUE := λx.λy.x\n",
    "    FALSE := λx.λy.y\n",
    "    AND := λp.λq.p q p\n",
    "    \n",
    "As cryptic as that looks, it translates into pretty simple F#.\n",
    "\n",
    "    ```fsharp\n",
    "    let TRUE x y = x\n",
    "    let FALSE x y = y\n",
    "    let AND p q = p q p\n",
    "    ```\n",
    "\n",
    "There's on problem here.  The AND function won't compile because the F# compiler doesn't know how to infer the type.  To show you what I mean, I'll write AND in untyped JavaScript.\n",
    "\n",
    "    const AND = function(p) {\n",
    "        return function(q) {\n",
    "            return p(q)(p);\n",
    "        }\n",
    "    }\n",
    "    \n",
    "Can you figure out the type of P?  We know p is a function that can accept q as its parameter.  We also know that whatever p returns is also a function and we're going to pass p into that function.\n",
    "\n",
    "If you're like me, this is pure witchcraft.\n",
    "\n",
    "## Using Lambda Calculus\n",
    "\n",
    "To actually use a lambda calculus function, we going to evaluate our functions using a term rewriting technique.\n",
    "\n",
    "Let's try out our AND function.  We'll start by writing it out like so:\n",
    "\n",
    "    AND TRUE TRUE\n",
    "    \n",
    "We'll substitute the words with pure lambda functions:\n",
    "\n",
    "    (λp.λq.p q p)(λx.λy.x)(λx.λy.x)\n",
    "    \n",
    "Next, we'll take the first two outer terms (AND and TRUE) and evaluate it.\n",
    "\n",
    "    (λp.λq.p q p)(λx.λy.x)\n",
    "    ---> . \n",
    "\n",
    "\n"
   ]
  },
  {
   "cell_type": "code",
   "execution_count": 10,
   "metadata": {},
   "outputs": [],
   "source": [
    "type Token = \n",
    "    | LParen\n",
    "    | RParen\n",
    "    | Lambda\n",
    "    | Dot\n",
    "    | Variable of char\n",
    "    \n"
   ]
  },
  {
   "cell_type": "code",
   "execution_count": 3,
   "metadata": {},
   "outputs": [],
   "source": [
    "type LambdaTerm = \n",
    "    | Var of string                                   // A reference to a variable\n",
    "    | Lambda of string * Term        // A function definition\n",
    "    | App of Term * Term  // A call to a function"
   ]
  },
  {
   "cell_type": "markdown",
   "metadata": {},
   "source": [
    "That's it!  That's all we need to define our lambda calculus AST.  We have no notion of boolean values, if statements, for loops, data types or anything else we take for granted in our modern languages."
   ]
  },
  {
   "cell_type": "markdown",
   "metadata": {},
   "source": [
    "# How do we anything useful with this minimalistic language?\n",
    "\n",
    "The trick to doing something useful with this language is knowing how to encode the things we take for granted, like boolean values, if statements, tuples, numbers and loops into this minimalistic language.\n",
    "\n",
    "So let me show you!\n",
    "\n",
    "Let's start with the basics.  To do any basic logic, we need to know how to encode things like true, false and logical operations as pure lambda functions.\n",
    "\n",
    "First, let me show you how I might define these with as pure F# functions."
   ]
  },
  {
   "cell_type": "code",
   "execution_count": 9,
   "metadata": {},
   "outputs": [],
   "source": [
    "let TRUE = fun x y -> x\n",
    "let FALSE = fun x y -> y\n",
    "let IF = fun x -> x\n",
    "let AND = fun x y -> IF x y FALSE"
   ]
  },
  {
   "cell_type": "markdown",
   "metadata": {},
   "source": [
    "## But how do you make this minimalistic language do anything useful?\n",
    "\n",
    "Just so we're clear, this language has none of the modern conveniences of the languages we use today.  "
   ]
  },
  {
   "cell_type": "code",
   "execution_count": 1,
   "metadata": {},
   "outputs": [],
   "source": [
    "type Term = \n",
    "    | Var of string\n",
    "    | Lambda of string * Term\n",
    "    | App of Term * Term"
   ]
  },
  {
   "cell_type": "code",
   "execution_count": 6,
   "metadata": {},
   "outputs": [
    {
     "name": "stdout",
     "output_type": "stream",
     "text": [
      "ID = Lambda (\"x\",Var \"x\")\n"
     ]
    },
    {
     "data": {
      "text/html": [
       "<null>"
      ]
     },
     "execution_count": 6,
     "metadata": {},
     "output_type": "execute_result"
    }
   ],
   "source": [
    "let ID = Lambda(\"x\", Var(\"x\"))\n",
    "    \n",
    "printfn \"ID = %A\" ID"
   ]
  },
  {
   "cell_type": "code",
   "execution_count": null,
   "metadata": {},
   "outputs": [],
   "source": []
  }
 ],
 "metadata": {
  "kernelspec": {
   "display_name": ".NET (F#)",
   "language": "F#",
   "name": ".net-fsharp"
  },
  "language_info": {
   "file_extension": ".fs",
   "mimetype": "text/x-fsharp",
   "name": "C#",
   "pygments_lexer": "fsharp",
   "version": "4.5"
  }
 },
 "nbformat": 4,
 "nbformat_minor": 2
}
